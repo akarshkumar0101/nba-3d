{
 "cells": [
  {
   "cell_type": "code",
   "execution_count": null,
   "metadata": {},
   "outputs": [],
   "source": [
    "sift = cv2.SIFT_create()\n",
    "kp1, des1 = sift.detectAndCompute(img, None)\n",
    "kp2, des2 = sift.detectAndCompute(court, None)\n",
    "\n",
    "\n",
    "# orb = cv2.ORB_create()\n",
    "# kp1 = orb.detect(img,None)\n",
    "# kp2 = orb.detect(court,None)\n",
    "\n",
    "# star = cv2.FeatureDetector_create(\"STAR\")\n",
    "# brief = cv2.DescriptorExtractor_create(\"BRIEF\")\n",
    "# kp1 = star.detect(img,None)\n",
    "# kp2 = star.detect(court,None)\n",
    "\n",
    "# surf = cv2.xfeatures2d.SURF_create()\n",
    "# kp1, des1 = surf.detectAndCompute(img, None)\n",
    "# kp2, des2 = surf.detectAndCompute(court, None)\n",
    "\n",
    "# fast = cv2.FastFeatureDetector_create()\n",
    "# kp1 = fast.detect(img,None)\n",
    "# kp2 = fast.detect(court,None)\n",
    "\n",
    "\n",
    "draw = img.copy()\n",
    "draw = cv2.drawKeypoints(img, kp1, draw)\n",
    "plt.figure(figsize=(15,15))\n",
    "plt.imshow(draw)\n",
    "\n",
    "draw = court.copy()\n",
    "draw = cv2.drawKeypoints(court, kp2, draw)\n",
    "plt.figure(figsize=(15,15))\n",
    "plt.imshow(draw)"
   ]
  }
 ],
 "metadata": {
  "kernelspec": {
   "display_name": "Python 3",
   "language": "python",
   "name": "python3"
  },
  "language_info": {
   "codemirror_mode": {
    "name": "ipython",
    "version": 3
   },
   "file_extension": ".py",
   "mimetype": "text/x-python",
   "name": "python",
   "nbconvert_exporter": "python",
   "pygments_lexer": "ipython3",
   "version": "3.8.5"
  }
 },
 "nbformat": 4,
 "nbformat_minor": 4
}
