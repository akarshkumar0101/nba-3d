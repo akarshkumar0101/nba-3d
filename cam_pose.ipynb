{
 "cells": [
  {
   "cell_type": "code",
   "execution_count": 1,
   "metadata": {},
   "outputs": [
    {
     "name": "stdout",
     "output_type": "stream",
     "text": [
      "img_shape_xy: (1280, 720)\n"
     ]
    }
   ],
   "source": [
    "%load_ext autoreload\n",
    "%autoreload 2\n",
    "\n",
    "import numpy as np\n",
    "import matplotlib.pyplot as plt\n",
    "from tqdm.notebook import tqdm\n",
    "import cv2, json, torch, os, re\n",
    "\n",
    "import util, constants, draw, cam, model, parse_alphapose\n",
    "\n",
    "np.random.seed(0)\n",
    "torch.manual_seed(0)\n",
    "\n",
    "VID_ROOT = '/home/akarshkumar0101/Insync/akarshkumar0101@gmail.com/Google Drive/nba-3d-data/harden/'\n",
    "DATA_ROOT = '/home/akarshkumar0101/Insync/akarshkumar0101@gmail.com/Google Drive/nba-3d-data/'\n",
    "\n",
    "img_shape_yx = plt.imread(VID_ROOT+'/all_views/frame_00001.png').shape[:2];img_shape_xy = img_shape_yx[::-1]\n",
    "\n",
    "uf_mat_int_default = cam.get_mat_intrinsic()\n",
    "uf_mat_int = cam.get_intrinsic_mat_for_img_shape(img_shape_xy)\n",
    "\n",
    "print(f'img_shape_xy: {img_shape_xy}')"
   ]
  },
  {
   "cell_type": "code",
   "execution_count": null,
   "metadata": {},
   "outputs": [],
   "source": []
  },
  {
   "cell_type": "code",
   "execution_count": null,
   "metadata": {},
   "outputs": [],
   "source": []
  },
  {
   "cell_type": "code",
   "execution_count": null,
   "metadata": {},
   "outputs": [],
   "source": []
  },
  {
   "cell_type": "code",
   "execution_count": null,
   "metadata": {},
   "outputs": [],
   "source": []
  },
  {
   "cell_type": "code",
   "execution_count": null,
   "metadata": {},
   "outputs": [],
   "source": []
  },
  {
   "cell_type": "code",
   "execution_count": null,
   "metadata": {},
   "outputs": [],
   "source": []
  },
  {
   "cell_type": "code",
   "execution_count": null,
   "metadata": {},
   "outputs": [],
   "source": []
  },
  {
   "cell_type": "markdown",
   "metadata": {},
   "source": [
    "# Loss function"
   ]
  },
  {
   "cell_type": "code",
   "execution_count": null,
   "metadata": {},
   "outputs": [],
   "source": [
    "\"\"\"\n",
    "alpha= 0.0 will take the mean.\n",
    "alpha= 0.2 will be very close to max.\n",
    "alpha=-0.2 will be very close to min.\n",
    "\"\"\"\n",
    "def smooth_max(x, alpha, dim=-1):\n",
    "    # unstable version:\n",
    "    # return (x*(alpha*x).exp()).sum()/((alpha*x).exp()).sum()\n",
    "    return ((alpha*x).softmax(dim=dim)*x).sum(dim=dim)\n",
    "\n",
    "def pt2pt_dist(p1, p2):\n",
    "    # (..., N1, D) and (..., N2, D)\n",
    "    return (p1[..., None, :]-p2[..., None, :, :]).norm(dim=-1).min(dim=-1).values\n",
    "\n",
    "def pt2pt_dist_soft(p1, p2, alpha=-.2):\n",
    "    # (..., N1, D) and (..., N2, D)\n",
    "    return smooth_max((p1[..., None, :]-p2[..., None, :, :]).norm(dim=-1), alpha=alpha, dim=-1)\n",
    "\n",
    "def fitness(dofs_cam, X_i_true):\n",
    "    X_i, vis_mask = cam.project_to_cam(X_w_down, dofs_cam)\n",
    "    X_i = X_i[vis_mask]\n",
    "    if(X_i.shape[0]==0):\n",
    "        return np.inf\n",
    "    p = X_i.shape[0] / X_w_down.shape[0]\n",
    "    loss_vis = -np.log(p)\n",
    "    loss_pt2pt = pt2pt_dist(X_i, X_i_true).mean().item()\n",
    "    loss_small_f = (-dofs_cam[..., 6]).exp().mean().item()\n",
    "#     print(loss_vis, loss_pt2pt, loss_small_f)\n",
    "    return loss_vis+loss_pt2pt+loss_small_f"
   ]
  },
  {
   "cell_type": "markdown",
   "metadata": {},
   "source": [
    "# Energy Minimization with Population Based Search"
   ]
  },
  {
   "cell_type": "code",
   "execution_count": null,
   "metadata": {},
   "outputs": [],
   "source": [
    "import cma"
   ]
  },
  {
   "cell_type": "code",
   "execution_count": null,
   "metadata": {},
   "outputs": [],
   "source": [
    "torch.manual_seed(0)\n",
    "x = torch.distributions.MultivariateNormal(torch.zeros(8), torch.eye(8)).sample()\n",
    "# x[6] = 1.\n",
    "# x[7] = 0.\n",
    "\n",
    "dofs_cam_true, _ = gaussian2cam(x)"
   ]
  },
  {
   "cell_type": "code",
   "execution_count": null,
   "metadata": {},
   "outputs": [],
   "source": [
    "draw.show_cam_view(X_w_down, dofs_cam_true)"
   ]
  },
  {
   "cell_type": "code",
   "execution_count": null,
   "metadata": {},
   "outputs": [],
   "source": [
    "X_i_true, vis_mask = cam.project_to_cam(X_w_down, dofs_cam_true)\n",
    "X_i_true = X_i_true[vis_mask]"
   ]
  },
  {
   "cell_type": "code",
   "execution_count": null,
   "metadata": {},
   "outputs": [],
   "source": [
    "es = cma.CMAEvolutionStrategy(8*[0], 1.0)\n",
    "i = 0\n",
    "while not es.stop():\n",
    "    solutions = es.ask(100)\n",
    "    print(i)\n",
    "#     for x in solutions:\n",
    "#         x[6] = 1.\n",
    "#         x[7] = 0.\n",
    "    fitnesses = [fitness(gaussian2cam(torch.tensor(x).float())[0], X_i_true) for x in solutions]\n",
    "    es.tell(solutions, fitnesses)\n",
    "#     es.logger.add()\n",
    "#     es.disp()\n",
    "    i+=1\n",
    "    if i%1==0:\n",
    "        draw.show_cam_view(X_w, dofs_cam_true, label='ground truth')\n",
    "        draw.show_cam_view(X_w, gaussian2cam(torch.tensor(es.best.x).float())[0], label='best so far')\n",
    "        plt.legend(bbox_to_anchor=(1.4, 1.))\n",
    "        plt.show()"
   ]
  },
  {
   "cell_type": "code",
   "execution_count": null,
   "metadata": {},
   "outputs": [],
   "source": [
    "x_true = torch.distributions.MultivariateNormal(torch.zeros(8), torch.eye(8)).sample()\n",
    "x = torch.distributions.MultivariateNormal(torch.zeros(8), torch.eye(8)).sample((1000,))\n",
    "\n",
    "\n",
    "dists = (x-x_true).norm(dim=-1)\n",
    "plt.hist(dists.numpy())"
   ]
  },
  {
   "cell_type": "code",
   "execution_count": null,
   "metadata": {},
   "outputs": [],
   "source": [
    "# es.result_pretty()\n",
    "# cma.plot()"
   ]
  },
  {
   "cell_type": "code",
   "execution_count": null,
   "metadata": {},
   "outputs": [],
   "source": []
  },
  {
   "cell_type": "code",
   "execution_count": null,
   "metadata": {},
   "outputs": [],
   "source": []
  },
  {
   "cell_type": "code",
   "execution_count": null,
   "metadata": {},
   "outputs": [],
   "source": []
  },
  {
   "cell_type": "code",
   "execution_count": null,
   "metadata": {},
   "outputs": [],
   "source": []
  },
  {
   "cell_type": "markdown",
   "metadata": {},
   "source": [
    "# Energy Minimization with Supervised Rendering Loss\n"
   ]
  },
  {
   "cell_type": "code",
   "execution_count": null,
   "metadata": {},
   "outputs": [],
   "source": [
    "dofs_cam = cam.calc_dofs_cam(torch.tensor([.6,.6, 0.6]), \n",
    "                             torch.tensor([0., 0., 0.]), \n",
    "                             fxy=torch.tensor([0., 0.]))\n",
    "dofs_cam_optim = dofs_cam.clone()\n",
    "torch.manual_seed(10)\n",
    "dofs_cam_optim = dofs_cam_optim + 0.1*torch.randn(dofs_cam_optim.shape)\n",
    "\n",
    "draw.show_cam_view(X_w, dofs_cam, label='ground truth')\n",
    "draw.show_cam_view(X_w, dofs_cam_optim, label='initial')\n",
    "plt.legend(bbox_to_anchor=(1.4, 1.))"
   ]
  },
  {
   "cell_type": "code",
   "execution_count": null,
   "metadata": {},
   "outputs": [],
   "source": []
  },
  {
   "cell_type": "code",
   "execution_count": null,
   "metadata": {},
   "outputs": [],
   "source": [
    "dofs_cam_optim_p = dofs_cam_optim[:6]\n",
    "opt = torch.optim.Adam([{'params': dofs_cam_optim_p, 'lr': 0.01}])\n",
    "dofs_cam_optim_p.requires_grad_()\n",
    "\n",
    "X_true, vis_mask = util.project_to_cam(X_w_down, dofs_cam)\n",
    "X_true = X_true[vis_mask]\n",
    "\n",
    "for i in tqdm(range(40)):\n",
    "    dofs_cam_optim = torch.cat([dofs_cam_optim_p, torch.tensor([0., 0.])])\n",
    "    \n",
    "    \n",
    "    X_i, vis_mask = util.project_to_cam(X_w_down, dofs_cam_optim)\n",
    "    X_i = X_i[vis_mask]\n",
    "    \n",
    "#     loss = pt2pt_dist(X_i, X_true)\n",
    "    loss1 = pt2pt_dist(X_i, X_true)\n",
    "    loss2 = pt2pt_dist_soft(X_true, X_i)\n",
    "    loss = (loss1).mean()#+(loss2*1000).pow(2).mean()\n",
    "    print('loss: ', loss.item())\n",
    "    print('pt2pt: ', pt2pt_dist(X_i, X_true).mean().item())\n",
    "    print(dofs_cam_optim[6:])\n",
    "    print()\n",
    "    \n",
    "    opt.zero_grad()\n",
    "    loss.backward()\n",
    "    opt.step()\n",
    "    \n",
    "    if i%10==0:\n",
    "        draw.show_cam_view(X_w, dofs_cam)\n",
    "        draw.show_cam_view(X_w, dofs_cam_optim.detach())\n",
    "        plt.legend(bbox_to_anchor=(1.4, 1.))\n",
    "        plt.show()"
   ]
  },
  {
   "cell_type": "code",
   "execution_count": null,
   "metadata": {},
   "outputs": [],
   "source": [
    "dofs_cam_optim = dofs_cam_optim.detach()"
   ]
  },
  {
   "cell_type": "code",
   "execution_count": null,
   "metadata": {},
   "outputs": [],
   "source": [
    "draw.show_cam_view(X_w, dofs_cam, label='ground truth')\n",
    "draw.show_cam_view(X_w, dofs_cam_optim, label='initial')\n",
    "plt.legend(bbox_to_anchor=(1.4, 1.))"
   ]
  }
 ],
 "metadata": {
  "kernelspec": {
   "display_name": "Python 3",
   "language": "python",
   "name": "python3"
  },
  "language_info": {
   "codemirror_mode": {
    "name": "ipython",
    "version": 3
   },
   "file_extension": ".py",
   "mimetype": "text/x-python",
   "name": "python",
   "nbconvert_exporter": "python",
   "pygments_lexer": "ipython3",
   "version": "3.8.5"
  }
 },
 "nbformat": 4,
 "nbformat_minor": 4
}
